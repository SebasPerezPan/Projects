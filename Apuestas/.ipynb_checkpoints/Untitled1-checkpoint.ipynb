{
 "cells": [
  {
   "cell_type": "code",
   "execution_count": null,
   "id": "6ed8db5b-6f05-4479-aee2-c5330d384598",
   "metadata": {},
   "outputs": [],
   "source": [
    "import pandas as pd\n",
    "import LanusStats as ls \n",
    "\n",
    "scraper = ls.ThreeSixFiveScores()\n",
    "# print(ls.get_available_pages())\n",
    "# print(ls.get_available_leagues(\"365Scores\"))\n",
    "# df = scraper.get_league_top_players_stats(\"Primer Division Argentina\")\n",
    "\n",
    "match_url = \"https://www.365scores.com/football/match/laliga-11/fc-barcelona-valencia-132-139-11#id=4147430\"\n",
    "\n",
    "valencia = scraper.get_match_data(match_url)\n",
    "\n",
    "req = scraper.get_match_general_stats(match_url)\n",
    "print(req)"
   ]
  }
 ],
 "metadata": {
  "kernelspec": {
   "display_name": "Python 3 (ipykernel)",
   "language": "python",
   "name": "python3"
  },
  "language_info": {
   "codemirror_mode": {
    "name": "ipython",
    "version": 3
   },
   "file_extension": ".py",
   "mimetype": "text/x-python",
   "name": "python",
   "nbconvert_exporter": "python",
   "pygments_lexer": "ipython3",
   "version": "3.12.6"
  }
 },
 "nbformat": 4,
 "nbformat_minor": 5
}
